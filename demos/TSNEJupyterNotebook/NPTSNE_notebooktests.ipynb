{
 "cells": [
  {
   "cell_type": "markdown",
   "metadata": {},
   "source": [
    "## Introduction to nptsne\n",
    "\n",
    "This Jupyter notebook provides an executable documentation for using the nptsne package. To run it install nptsne from Pypi or pip install the downloaded .whl file fo your os. \n",
    "\n",
    "#### Demo requirements\n",
    "\n",
    "Nptsne is supported on python 3.6, 3.7, 3.8 & 3.9. The following packages are required to run this demo:\n",
    "\n",
    "* numpy\n",
    "* matplotlib\n",
    "* six\n",
    "* scipy\n",
    "* umap-learn (for the umap examples)\n"
   ]
  },
  {
   "cell_type": "code",
   "execution_count": null,
   "metadata": {},
   "outputs": [],
   "source": [
    "import os\n",
    "import sys\n",
    "import nptsne\n",
    "import matplotlib.pyplot as plt\n",
    "from   matplotlib import rc\n",
    "import numpy as np\n",
    "import umap\n",
    "\n",
    "from six.moves import urllib\n",
    "from scipy.io import loadmat\n",
    "from matplotlib import colors as mcolors\n",
    "from timeit import default_timer as timer\n",
    "colors = ['#FF0000', '#FF9900', '#CCFF00', '#33FF00', '#00FF66', '#00FFFF', '#0066FF', '#3300FF', '#CC00FF', '#FF0099']\n",
    "print(\"Running python {}.{}\".format(sys.version_info.major, sys.version_info.minor))\n"
   ]
  },
  {
   "cell_type": "markdown",
   "metadata": {},
   "source": [
    "### <font color=blue>nptsne.TextureTsne API</font>\n",
    "\n",
    "This class allows a basic inteface which is similar to the [scikit-learn tsne](https://scikit-learn.org/stable/modules/generated/sklearn.manifold.TSNE.html). This API comprises the following methods \n",
    "* `__init__`: nptsne.TextureTsne() constructor\n",
    "* `fit_transform` : Create the tSNE embedding\n",
    "\n",
    "Full API documentation will be shown in the cell below."
   ]
  },
  {
   "cell_type": "code",
   "execution_count": null,
   "metadata": {
    "tags": [
     "outputPrepend"
    ]
   },
   "outputs": [],
   "source": [
    "import nptsne\n",
    "help(nptsne)\n"
   ]
  },
  {
   "cell_type": "code",
   "execution_count": null,
   "metadata": {},
   "outputs": [],
   "source": [
    "from nptsne import KnnAlgorithm\n",
    "help(KnnAlgorithm)"
   ]
  },
  {
   "cell_type": "markdown",
   "metadata": {},
   "source": [
    "#### <font color=blue>Download minist data for use in the demos</font>"
   ]
  },
  {
   "cell_type": "code",
   "execution_count": null,
   "metadata": {},
   "outputs": [],
   "source": [
    "from pathlib import Path\n",
    "root = Path.cwd().resolve().parent\n",
    "mnist_path = root / 'data/mnist-original.mat'\n",
    "#if not os.path.isfile(mnist_path):\n",
    "#    mnist_alternative_url = 'https://github.com/amplab/datascience-sp14/raw/master/lab7/mldata/mnist-original.mat'\n",
    "#    response = urllib.request.urlopen(mnist_alternative_url)\n",
    "#    with open(mnist_path, 'wb') as f:\n",
    "#        content = response.read()\n",
    "#        f.write(content)\n",
    "mnist_raw = loadmat(mnist_path)\n",
    "mnist = {\n",
    "    'data': mnist_raw['data'].T,\n",
    "    'label': mnist_raw['label'][0],\n",
    "    'COL_NAMES': ['label', 'data']\n",
    "}\n",
    "print('Mnist data dimenstions: ', mnist['data'].shape)\n"
   ]
  },
  {
   "cell_type": "markdown",
   "metadata": {},
   "source": [
    "#### <font color=blue>Create a tSNE embedding of the 70000 MNIST data points & display the elapsed time</font>"
   ]
  },
  {
   "cell_type": "code",
   "execution_count": null,
   "metadata": {},
   "outputs": [],
   "source": [
    "tsne = nptsne.TextureTsne(False,1000,2,30,800, nptsne.KnnAlgorithm.Flann)\n",
    "#Can also be run with knn as HNSW: this works faster in very large datasets lower dimensional data (<40 dimensions)\n",
    "#tsne = nptsne.TextureTsne(False,1000,2,30,800, nptsne.nptsne.KnnAlgorithm.HNSW)\n",
    "\n",
    "embedding = None\n",
    "try:\n",
    "   \n",
    "    for i in range(1):\n",
    "        start = timer()\n",
    "        embedding = tsne.fit_transform(mnist['data'])\n",
    "        end = timer()\n",
    "        print(f'got embedding in {end - start}')\n",
    "except Exception as ex:\n",
    "    print('Error....')\n",
    "    print(ex)"
   ]
  },
  {
   "cell_type": "markdown",
   "metadata": {},
   "source": [
    "#### <font color=blue>Display the tSNE Mnist embedding</font>"
   ]
  },
  {
   "cell_type": "code",
   "execution_count": null,
   "metadata": {},
   "outputs": [],
   "source": [
    "# norm = mcolors.Normalize(vmin=0, vmax=9)\n",
    "xyembed = embedding.reshape((70000, 2))\n",
    "# mcolors.ListedColormap(colors)\n",
    "rc('lines', linewidth=2)\n",
    "rc('lines', markersize=1)\n",
    "plt.scatter(xyembed[..., 0], xyembed[..., 1], c=mnist['label'], cmap=mcolors.ListedColormap(colors), facecolors='None', marker='o')\n",
    "plt.show()"
   ]
  },
  {
   "cell_type": "markdown",
   "metadata": {},
   "source": [
    "### <font color=blue>nptsne.TextureTsneExtended API</font>\n",
    "\n",
    "This class offers a second, more flexible API. It adds a number of features to the basic TextureTsne API, specifically:\n",
    "\n",
    "* `__init`: nptsne.TextureTsneExtended() constructor.\n",
    "* `init_transform`: Initialize the transform with data and an optional initial embedding.  Performs the nearest neighbor calculation\n",
    "* `run_transform`: Running/restarting the transform for a number or iterations (enables display of intermediate results). Enable/disable verbose output. \n",
    "* `start_exaggeration_decay`: Explicitly triggering the force exaggeration decay. Permits the typical tSNE cluster expansion. In the basic API this occurs at 250 iterations.\n",
    "* `close`: Free the GPU resources.\n",
    "\n",
    "Properties\n",
    "* `decay_started_at`: The iteration number when decay exaggeration was started.\n",
    "* `iteration_count`: The current iteration.\n",
    "\n",
    "Full API documentation will be shown in the cell below."
   ]
  },
  {
   "cell_type": "code",
   "execution_count": null,
   "metadata": {},
   "outputs": [],
   "source": [
    "print(\"nptsne version: {}\".format(nptsne.__version__))\n",
    "help(nptsne.TextureTsneExtended)"
   ]
  },
  {
   "cell_type": "markdown",
   "metadata": {},
   "source": [
    "#### <font color=blue>Create and initialize TextureTsneExtended with Mnist data</font>"
   ]
  },
  {
   "cell_type": "code",
   "execution_count": null,
   "metadata": {},
   "outputs": [],
   "source": [
    "tsne = nptsne.TextureTsneExtended(False)\n",
    "embeddings = []\n",
    "if tsne.init_transform(mnist['data']):\n",
    "    print('Init succeeded')"
   ]
  },
  {
   "cell_type": "markdown",
   "metadata": {},
   "source": [
    "#### <font color=blue>Run the tSNE embedding in blocks of 100 iterations. Reduce the exaggeration force from step 700. Record the intermediate embeddings in a plot.</font>"
   ]
  },
  {
   "cell_type": "code",
   "execution_count": null,
   "metadata": {},
   "outputs": [],
   "source": [
    "step_size = 100\n",
    "plt.figure(2,figsize=(15,10))\n",
    "\n",
    "for i in range(10):\n",
    "    \n",
    "    start = timer()\n",
    "    stop_exaggeration = False\n",
    "    # reduce the forces from iteration 700 \n",
    "    if i == 7:\n",
    "        tsne.start_exaggeration_decay()\n",
    "        print(f'exaggeration stopping at {tsne.decay_started_at}')\n",
    "    embedding = tsne.run_transform(verbose=False, iterations=step_size)\n",
    "    end = timer()\n",
    "    print(f'got embedding in {end - start}')\n",
    "    print(f'iteration count {tsne.iteration_count}')\n",
    "    xyembed = np.copy(embedding.reshape((70000, 2)))\n",
    "    embeddings.append(xyembed)\n",
    "    print(f\"subplot {i+1}\")\n",
    "    plt.subplot(3,4,i+1)\n",
    "    plt.gca().set_title('Iter: ' + str(100*(i+1)))\n",
    "    plt.scatter(xyembed[..., 0], xyembed[..., 1], c=mnist['label'], cmap=mcolors.ListedColormap(colors), facecolors='None', marker='o')\n",
    "\n",
    "plt.draw()\n",
    "plt.savefig(f'testext.png')\n",
    "   \n"
   ]
  },
  {
   "cell_type": "markdown",
   "metadata": {},
   "source": [
    "#### <font color=blue>Reset the embedding and rerun the transform above. This does not rerun the knn so the speed of the OpenGL texture speed is clear.</font>\n",
    "\n",
    "Rerun the cell below (using Ctrl-Enter) to demonstrate the stochastic nature of the embedding"
   ]
  },
  {
   "cell_type": "code",
   "execution_count": null,
   "metadata": {},
   "outputs": [],
   "source": [
    "fig, axes = plt.subplots()\n",
    "tsne.reinitialize_transform()\n",
    "start = timer()\n",
    "tsne.run_transform(verbose=False, iterations=700)\n",
    "tsne.start_exaggeration_decay()\n",
    "embedding = tsne.run_transform(verbose=False, iterations=300)\n",
    "end = timer()\n",
    "print(f'Recalculated embedding in {end - start}')\n",
    "xyembed = np.copy(embedding.reshape((70000, 2)))\n",
    "embeddings.append(xyembed)\n",
    "axes.scatter(xyembed[..., 0], xyembed[..., 1], c=mnist['label'], cmap=mcolors.ListedColormap(colors), facecolors='None', marker='o')"
   ]
  },
  {
   "cell_type": "markdown",
   "metadata": {},
   "source": [
    "#### <font color=blue>Closing the tsne frees the OpenGL context</font>"
   ]
  },
  {
   "cell_type": "code",
   "execution_count": null,
   "metadata": {},
   "outputs": [],
   "source": [
    "tsne.close() "
   ]
  },
  {
   "cell_type": "markdown",
   "metadata": {},
   "source": [
    "#### <font color=blue>Make a umap embedding of a randompy selected 1/10 of the Mnist data.</font>"
   ]
  },
  {
   "cell_type": "code",
   "execution_count": null,
   "metadata": {},
   "outputs": [],
   "source": [
    "# extract 1 data point in 10  : p=[.1, .9]\n",
    "# generate and index array with approximately 1/10 of data row numbers\n",
    "import umap\n",
    "idx = np.where(np.random.choice([1, 0], size=70000, p=[0.1, 0.9]))\n",
    "subLabel = np.squeeze(mnist['label'][idx])\n",
    "subData =  mnist['data'][idx]\n",
    "\n",
    "print(subLabel.shape, subData.shape)\n",
    "\n",
    "umap_embed = umap.UMAP().fit_transform(subData)\n",
    "\n",
    "plt.figure(3,figsize=(15,10))\n",
    "\n",
    "plt.scatter(umap_embed[..., 0], umap_embed[..., 1], c=subLabel, cmap=mcolors.ListedColormap(colors), facecolors='None', marker='o')\n",
    "plt.draw()\n"
   ]
  },
  {
   "cell_type": "markdown",
   "metadata": {},
   "source": [
    "#### <font color=blue>Use the umap embedding to initialize the TextureTsneExtended. \n",
    "\n",
    "This shows that with high exaggeration forces tSNE leaves the umap embedding largely unchanged. Allowing the exaggeration forces to decay produced a more typical tSNE embedding.</font>\n",
    "\n",
    "This equivalence has been noted elsewhere see [Attraction-Repulsion Spectrum in Neighbor Embeddings](https://arxiv.org/abs/2007.08902) "
   ]
  },
  {
   "cell_type": "code",
   "execution_count": null,
   "metadata": {},
   "outputs": [],
   "source": [
    "tsne = nptsne.TextureTsneExtended(verbose=True)\n",
    "\n",
    "print(f'Init tSNE from umap, shape: {umap_embed.shape}')\n",
    "if tsne.init_transform(subData, umap_embed):\n",
    "    print('Init from umap succeeded')\n",
    "\n",
    "step_size = 100\n",
    "plt.figure(4,figsize=(15,10))\n",
    "for i in range(10):\n",
    "    start = timer()\n",
    "    exaggeration_iter = 100\n",
    "    # reduce the forces from 1000 \n",
    "    if i == 5:\n",
    "        tsne.start_exaggeration_decay()\n",
    "        print(f'exaggeration stopping at {tsne.decay_started_at}')\n",
    "\n",
    "    embedding = tsne.run_transform(verbose=True, iterations=step_size)\n",
    "    end = timer()\n",
    "    print(f'got embedding in {end - start}')\n",
    "    xyembed = np.copy(embedding.reshape((-1, 2)))\n",
    "    plt.subplot(4,4,i+1)\n",
    "    plt.gca().set_title('Iter: ' + str(100*(i+1)))\n",
    "    plt.scatter(xyembed[..., 0], xyembed[..., 1], c=subLabel, cmap=mcolors.ListedColormap(colors), facecolors='None', marker='o')\n",
    "\n",
    "plt.draw()\n",
    "\n",
    "tsne.close()  \n"
   ]
  },
  {
   "cell_type": "code",
   "execution_count": null,
   "metadata": {},
   "outputs": [],
   "source": []
  }
 ],
 "metadata": {
  "kernelspec": {
   "display_name": "Python 3 (ipykernel)",
   "language": "python",
   "name": "python3"
  },
  "language_info": {
   "codemirror_mode": {
    "name": "ipython",
    "version": 3
   },
   "file_extension": ".py",
   "mimetype": "text/x-python",
   "name": "python",
   "nbconvert_exporter": "python",
   "pygments_lexer": "ipython3",
   "version": "3.8.12"
  }
 },
 "nbformat": 4,
 "nbformat_minor": 4
}
