{
 "cells": [
  {
   "cell_type": "markdown",
   "metadata": {},
   "source": [
    "## Introduction to nptsne\n",
    "\n",
    "This Jupyter notebook provides an executable documentation for using the nptsne package. To run it install nptsne from Pypi or pip install the downloaded .whl file fo your os. \n",
    "\n",
    "#### Demo requirements\n",
    "\n",
    "Nptsne is supported on python 3.6 or 3.7. The following packages are required to run this demo:\n",
    "\n",
    "* numpy\n",
    "* matplotlib\n",
    "* six\n",
    "* scipy\n",
    "* umap-learn (for the umap examples)\n"
   ]
  },
  {
   "cell_type": "code",
   "execution_count": null,
   "metadata": {},
   "outputs": [],
   "source": [
    "import os\n",
    "import sys\n",
    "import nptsne\n",
    "import matplotlib.pyplot as plt\n",
    "from   matplotlib import rc\n",
    "import numpy as np\n",
    "from   scipy.spatial.distance import cdist\n",
    "from   sklearn.neighbors import NearestNeighbors\n",
    "import pyflann\n",
    "\n",
    "from six.moves import urllib\n",
    "from scipy.io import loadmat\n",
    "from matplotlib import colors as mcolors\n",
    "from timeit import default_timer as timer\n",
    "\n",
    "print(\"Running python {}.{}\".format(sys.version_info.major, sys.version_info.minor))\n"
   ]
  },
  {
   "cell_type": "markdown",
   "metadata": {},
   "source": [
    "### <font color=blue>nptsne.TextureTsne API</font>\n",
    "\n",
    "This class allows a basic inteface which is similar to the [scikit-learn tsne](https://scikit-learn.org/stable/modules/generated/sklearn.manifold.TSNE.html). This API comprises the following methods \n",
    "* `__init__`: nptsne.TextureTsne() constructor\n",
    "* `fit_transform` : Create the tSNE embedding\n",
    "\n",
    "Full API documentation will be shown in the cell below."
   ]
  },
  {
   "cell_type": "code",
   "execution_count": null,
   "metadata": {},
   "outputs": [],
   "source": [
    "import nptsne\n",
    "help(nptsne)\n"
   ]
  },
  {
   "cell_type": "code",
   "execution_count": null,
   "metadata": {},
   "outputs": [],
   "source": [
    "from nptsne import KnnAlgorithm\n",
    "help(KnnAlgorithm)"
   ]
  },
  {
   "cell_type": "markdown",
   "metadata": {},
   "source": [
    "#### <font color=blue>Download minist data for use in the demos</font>"
   ]
  },
  {
   "cell_type": "code",
   "execution_count": null,
   "metadata": {},
   "outputs": [],
   "source": [
    "mnist_path = 'mnist-original.mat'\n",
    "if not os.path.isfile(mnist_path):\n",
    "    mnist_alternative_url = 'https://github.com/amplab/datascience-sp14/raw/master/lab7/mldata/mnist-original.mat'\n",
    "    response = urllib.request.urlopen(mnist_alternative_url)\n",
    "    with open(mnist_path, 'wb') as f:\n",
    "        content = response.read()\n",
    "        f.write(content)\n",
    "mnist_raw = loadmat(mnist_path)\n",
    "mnist = {\n",
    "    'data': mnist_raw['data'].T,\n",
    "    'label': mnist_raw['label'][0],\n",
    "    'COL_NAMES': ['label', 'data']\n",
    "}\n",
    "print('Mnist data dimenstions: ', mnist['data'].shape)\n"
   ]
  },
  {
   "cell_type": "markdown",
   "metadata": {},
   "source": [
    "#### <font color=blue>Create a tSNE embedding of the 70000 MNIST data points & display the elapsed time</font>"
   ]
  },
  {
   "cell_type": "code",
   "execution_count": null,
   "metadata": {},
   "outputs": [],
   "source": [
    "tsne = nptsne.TextureTsne(False,1000,2,30,800, nptsne.KnnAlgorithm.Flann)\n",
    "#Can also be run with knn as HNSW: this works faster in very large datasets lower dimensional data (<40 dimensions)\n",
    "#tsne = nptsne.TextureTsne(False,1000,2,30,800, nptsne.nptsne.KnnAlgorithm.HNSW)\n",
    "\n",
    "embedding = None\n",
    "try:\n",
    "   \n",
    "    for i in range(1):\n",
    "        start = timer()\n",
    "        embedding = tsne.fit_transform(mnist['data'])\n",
    "        end = timer()\n",
    "        print(f'got embedding in {end - start}')\n",
    "except Exception as ex:\n",
    "    print('Error....')\n",
    "    print(ex)"
   ]
  },
  {
   "cell_type": "markdown",
   "metadata": {},
   "source": [
    "#### <font color=blue>DIsplay the tSNE Mnist embedding</font>"
   ]
  },
  {
   "cell_type": "code",
   "execution_count": null,
   "metadata": {},
   "outputs": [],
   "source": [
    "colors = ['#FF0000', '#FF9900', '#CCFF00', '#33FF00', '#00FF66', '#00FFFF', '#0066FF', '#3300FF', '#CC00FF', '#FF0099']\n",
    "# norm = mcolors.Normalize(vmin=0, vmax=9)\n",
    "xyembed = embedding.reshape((70000, 2))\n",
    "# mcolors.ListedColormap(colors)\n",
    "rc('lines', linewidth=2)\n",
    "rc('lines', markersize=1)\n",
    "plt.scatter(xyembed[..., 0], xyembed[..., 1], c=mnist['label'], cmap=mcolors.ListedColormap(colors), facecolors='None', marker='o')\n",
    "plt.show()"
   ]
  },
  {
   "cell_type": "markdown",
   "metadata": {},
   "source": [
    "### <font color=blue>nptsne.TextureTsneExtended API</font>\n",
    "\n",
    "This class offers a second, more flexible API. It adds a number of features to the basic TextureTsne API, specifically:\n",
    "\n",
    "* `__init`: nptsne.TextureTsneExtended() constructor.\n",
    "* `init_transform`: Initialize the transform with data and an optional initial embedding.  Performs the nearest neighbor calculation\n",
    "* `init_transform_with_distance_matrix`: Initialize the transform with a pre-calculated distance matrix and an optional initial embedding. No nearest neighbor calculation is performed.\n",
    "* `init_transform_with_kNN`: Initialize the transform with a nearest neighbors and an optional initial embedding.\n",
    "* `run_transform`: Running/restarting the transform for a number or iterations (enables display of intermediate results). Enable/disable verbose output. \n",
    "* `start_exaggeration_decay`: Explicitly triggering the force exaggeration decay. Permits the typical tSNE cluster expansion. In the basic API this occurs at 250 iterations.\n",
    "* `close`: Free the GPU resources.\n",
    "\n",
    "Properties\n",
    "* `decay_started_at`: The iteration number when decay exaggeration was started.\n",
    "* `iteration_count`: The current iteration.\n",
    "\n",
    "Full API documentation will be shown in the cell below."
   ]
  },
  {
   "cell_type": "code",
   "execution_count": null,
   "metadata": {},
   "outputs": [],
   "source": [
    "print(\"nptsne version: {}\".format(nptsne.__version__))\n",
    "help(nptsne.TextureTsneExtended)"
   ]
  },
  {
   "cell_type": "markdown",
   "metadata": {},
   "source": [
    "#### <font color=blue>Create and initialize TextureTsneExtended with Mnist data</font>"
   ]
  },
  {
   "cell_type": "code",
   "execution_count": null,
   "metadata": {},
   "outputs": [],
   "source": [
    "tsne = nptsne.TextureTsneExtended(False)\n",
    "embeddings = []\n",
    "if tsne.init_transform(mnist['data']):\n",
    "    print('Init succeeded')"
   ]
  },
  {
   "cell_type": "markdown",
   "metadata": {},
   "source": [
    "#### <font color=blue>Run the tSNE embedding in blocks of 100 iterations. Reduce the exaggeration force from step 700. Record the intermediate embeddings in a plot.</font>"
   ]
  },
  {
   "cell_type": "code",
   "execution_count": null,
   "metadata": {},
   "outputs": [],
   "source": [
    "step_size = 100\n",
    "plt.figure(2,figsize=(15,10))\n",
    "\n",
    "for i in range(10):\n",
    "    \n",
    "    start = timer()\n",
    "    stop_exaggeration = False\n",
    "    # reduce the forces from iteration 700 \n",
    "    if i == 7:\n",
    "        tsne.start_exaggeration_decay()\n",
    "        print(f'exaggeration stopping at {tsne.decay_started_at}')\n",
    "    embedding = tsne.run_transform(verbose=False, iterations=step_size)\n",
    "    end = timer()\n",
    "    print(f'got embedding in {end - start}')\n",
    "    print(f'iteration count {tsne.iteration_count}')\n",
    "    xyembed = np.copy(embedding.reshape((70000, 2)))\n",
    "    embeddings.append(xyembed)\n",
    "    print(f\"subplot {i+1}\")\n",
    "    plt.subplot(3,4,i+1)\n",
    "    plt.gca().set_title('Iter: ' + str(100*(i+1)))\n",
    "    plt.scatter(xyembed[..., 0], xyembed[..., 1], c=mnist['label'], cmap=mcolors.ListedColormap(colors), facecolors='None', marker='o')\n",
    "\n",
    "plt.draw()\n",
    "plt.savefig(f'testext.png')\n",
    "   \n"
   ]
  },
  {
   "cell_type": "markdown",
   "metadata": {},
   "source": [
    "#### <font color=blue>Reset the embedding and rerun the transform above. This does not rerun the knn so the speed of the OpenGL texture speed is clear.</font>\n",
    "\n",
    "Rerun the cell below (using Ctrl-Enter) to demonstrate the stochastic nature of the embedding"
   ]
  },
  {
   "cell_type": "code",
   "execution_count": null,
   "metadata": {},
   "outputs": [],
   "source": [
    "fig, axes = plt.subplots()\n",
    "tsne.reinitialize_transform()\n",
    "start = timer()\n",
    "tsne.run_transform(verbose=False, iterations=700)\n",
    "tsne.start_exaggeration_decay()\n",
    "embedding = tsne.run_transform(verbose=False, iterations=300)\n",
    "end = timer()\n",
    "print(f'Recalcutaled embedding in {end - start}')\n",
    "xyembed = np.copy(embedding.reshape((70000, 2)))\n",
    "embeddings.append(xyembed)\n",
    "axes.scatter(xyembed[..., 0], xyembed[..., 1], c=mnist['label'], cmap=mcolors.ListedColormap(colors), facecolors='None', marker='o')"
   ]
  },
  {
   "cell_type": "markdown",
   "metadata": {},
   "source": [
    "#### <font color=blue>Closing the tsne frees the OpenGL context</font>"
   ]
  },
  {
   "cell_type": "code",
   "execution_count": null,
   "metadata": {},
   "outputs": [],
   "source": [
    "tsne.close() "
   ]
  },
  {
   "cell_type": "markdown",
   "metadata": {},
   "source": [
    "#### <font color=blue>Make a umap embedding of a randompy selected 1/10 of the Mnist data.</font>"
   ]
  },
  {
   "cell_type": "code",
   "execution_count": null,
   "metadata": {},
   "outputs": [],
   "source": [
    "# extract 1 data point in 10  : p=[.1, .9]\n",
    "# generate and index array with approximately 1/10 of data row numbers\n",
    "import umap\n",
    "idx = np.where(np.random.choice([1, 0], size=70000, p=[0.1, 0.9]))\n",
    "subLabel = np.squeeze(mnist['label'][idx])\n",
    "subData =  mnist['data'][idx]\n",
    "\n",
    "print(subLabel.shape, subData.shape)\n",
    "\n",
    "umap_embed = umap.UMAP().fit_transform(subData)\n",
    "\n",
    "plt.figure(3,figsize=(15,10))\n",
    "\n",
    "plt.scatter(umap_embed[..., 0], umap_embed[..., 1], c=subLabel, cmap=mcolors.ListedColormap(colors), facecolors='None', marker='o')\n",
    "plt.draw()\n"
   ]
  },
  {
   "cell_type": "markdown",
   "metadata": {},
   "source": [
    "#### <font color=blue>Use the umap embedding to initialize the TextureTsneExtended. This shows that with high exaggeration forces tSNE leaves the umap embedding largely unchanged. Allowing the exaggeration forces to decay produced a more typical tSNE embedding.</font>"
   ]
  },
  {
   "cell_type": "code",
   "execution_count": null,
   "metadata": {},
   "outputs": [],
   "source": [
    "tsne = nptsne.TextureTsneExtended(verbose=True)\n",
    "\n",
    "print(f'Init tSNE from umap, shape: {umap_embed.shape}')\n",
    "if tsne.init_transform(subData, umap_embed):\n",
    "    print('Init from umap succeeded')\n",
    "\n",
    "step_size = 100\n",
    "plt.figure(4,figsize=(15,10))\n",
    "for i in range(10):\n",
    "    start = timer()\n",
    "    exaggeration_iter = 100\n",
    "    # reduce the forces from 1000 \n",
    "    if i == 5:\n",
    "        tsne.start_exaggeration_decay()\n",
    "        print(f'exaggeration stopping at {tsne.decay_started_at}')\n",
    "\n",
    "    embedding = tsne.run_transform(verbose=True, iterations=step_size)\n",
    "    end = timer()\n",
    "    print(f'got embedding in {end - start}')\n",
    "    xyembed = np.copy(embedding.reshape((-1, 2)))\n",
    "    plt.subplot(4,4,i+1)\n",
    "    plt.gca().set_title('Iter: ' + str(100*(i+1)))\n",
    "    plt.scatter(xyembed[..., 0], xyembed[..., 1], c=subLabel, cmap=mcolors.ListedColormap(colors), facecolors='None', marker='o')\n",
    "\n",
    "plt.draw()\n",
    "\n",
    "tsne.close()  \n"
   ]
  },
  {
   "cell_type": "markdown",
   "metadata": {},
   "source": [
    "#### <font color=blue>Initialize t-SNE with pre-calculated distances or kNN</font>\n",
    "\n",
    "Use custom distance measures for your application"
   ]
  },
  {
   "cell_type": "code",
   "execution_count": null,
   "metadata": {},
   "outputs": [],
   "source": [
    "# work on a subset since dist calculation here is slow and we don't have time\n",
    "subset_size = 5000\n",
    "rand_select = np.random.randint(70000, size=subset_size)\n",
    "mnist_data_subset = mnist['data'][rand_select]\n",
    "mnist_label_subset = mnist['label'][rand_select]\n",
    "\n",
    "# Distance matrix: No kNNs are calcualted, all item pairs will be considered\n",
    "# You would want to use your specific metric here.\n",
    "# For standard euclidean distance, just use the basic interface\n",
    "start = timer()\n",
    "dist_mat_subset = cdist(mnist_data_subset, mnist_data_subset, 'sqeuclidean')\n",
    "end = timer()\n",
    "print(f'custom distance calculation in {end-start}')\n",
    "\n",
    "tsne_dist_mat = nptsne.TextureTsneExtended(num_target_dimensions=2, perplexity=30)\n",
    "start = timer()\n",
    "tsne_dist_mat.init_transform_with_distance_matrix(dist_mat_subset)\n",
    "end = timer()\n",
    "print(f'init with distance matrix in in {end-start}')\n",
    "start = timer()\n",
    "_ = tsne_dist_mat.run_transform(verbose=False, iterations=700)\n",
    "tsne_dist_mat.start_exaggeration_decay()\n",
    "emb_dist_mat = tsne_dist_mat.run_transform(verbose=False, iterations=300).reshape((subset_size, 2))\n",
    "end = timer()\n",
    "print(f't-SNE calculated in {end-start}')\n",
    "\n",
    "# kNN based on distance matrix\n",
    "nnEst = NearestNeighbors(n_neighbors=91, metric='precomputed').fit(dist_mat_subset)\n",
    "knn_dist_mat, knn_labels_mat = nnEst.kneighbors(dist_mat_subset)\n",
    "\n",
    "tsne_kNN_dist = nptsne.TextureTsneExtended(num_target_dimensions=2, perplexity=30)\n",
    "start = timer()\n",
    "tsne_kNN_dist.init_transform_with_kNN(knn_dist_mat, knn_labels_mat)\n",
    "end = timer()\n",
    "print(f'init with kNN based on distance matrix on subset of data in {end-start}')\n",
    "start = timer()\n",
    "_ = tsne_kNN_dist.run_transform(verbose=False, iterations=700)\n",
    "tsne_kNN_dist.start_exaggeration_decay()\n",
    "emb_kNN_dist = tsne_kNN_dist.run_transform(verbose=False, iterations=300).reshape((subset_size, 2))\n",
    "end = timer()\n",
    "# this will be faster than the next since it is calculated on a subset\n",
    "print(f't-SNE calculated in {end-start}')\n",
    "\n",
    "# kNN\n",
    "flann = pyflann.FLANN()\n",
    "pyflann.set_distance_type('euclidean')\n",
    "knn_labels, knn_distances = flann.nn(mnist['data'], mnist['data'], num_neighbors=91)\n",
    "\n",
    "tsne_kNN = nptsne.TextureTsneExtended(num_target_dimensions=2, perplexity=30)\n",
    "start = timer()\n",
    "tsne_kNN.init_transform_with_kNN(knn_distances, knn_labels)\n",
    "end = timer()\n",
    "print(f'init with kNN based on data in {end-start}')\n",
    "start = timer()\n",
    "_ = tsne_kNN.run_transform(verbose=False, iterations=700)\n",
    "tsne_kNN.start_exaggeration_decay()\n",
    "emb_kNN = tsne_kNN.run_transform(verbose=False, iterations=300).reshape((70000, 2))\n",
    "end = timer()\n",
    "print(f't-SNE calculated in {end-start}')\n",
    "\n",
    "# compare\n",
    "emd = embeddings[-1].reshape((70000, 2))\n",
    "plt.figure(4,figsize=(15,5))\n",
    "for i, (emb, tit, labs) in enumerate(zip([emd, emb_dist_mat, emb_kNN_dist, emb_kNN],\n",
    "                                         ['nptsne kNN calculation', 'No kNN \\ndistance matrix on subset',\n",
    "                                          'Pre-calculated kNN\\n from distance matrix on subset', 'Pre-calculated kNN'],\n",
    "                                         [mnist['label'], mnist_label_subset, mnist_label_subset, mnist['label']])):\n",
    "    plt.subplot(1, 4, i+1)\n",
    "    plt.gca().set_title(tit)\n",
    "    plt.scatter(emb[..., 0], emb[..., 1], c=labs, cmap=mcolors.ListedColormap(colors), facecolors='None', marker='o')\n",
    "plt.show()\n"
   ]
  }
 ],
 "metadata": {
  "kernelspec": {
   "display_name": "Python 3",
   "language": "python",
   "name": "python3"
  },
  "language_info": {
   "codemirror_mode": {
    "name": "ipython",
    "version": 3
   },
   "file_extension": ".py",
   "mimetype": "text/x-python",
   "name": "python",
   "nbconvert_exporter": "python",
   "pygments_lexer": "ipython3",
   "version": "3.7.6"
  }
 },
 "nbformat": 4,
 "nbformat_minor": 4
}
